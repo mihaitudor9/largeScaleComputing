{
 "cells": [
  {
   "cell_type": "code",
   "execution_count": 10,
   "metadata": {},
   "outputs": [],
   "source": [
    "import json\n",
    "import socket\n",
    "import time"
   ]
  },
  {
   "cell_type": "code",
   "execution_count": 11,
   "metadata": {},
   "outputs": [],
   "source": [
    "def reading(file):\n",
    "    my_config_file1 = open(file)\n",
    "    my_config_file1 = my_config_file1.read()\n",
    "    object1 = json.loads(my_config_file1)\n",
    "    return object1"
   ]
  },
  {
   "cell_type": "code",
   "execution_count": 12,
   "metadata": {},
   "outputs": [
    {
     "name": "stdout",
     "output_type": "stream",
     "text": [
      "Name: JOE DOE\n",
      "ID: 0001\n",
      "Account number: 1234\n",
      "-----------------\n"
     ]
    }
   ],
   "source": [
    "client_data = reading('data/bank_customer_1.json')\n",
    "try:\n",
    "    log = reading('data/bankclient_log.json')\n",
    "except:\n",
    "    log = {}\n",
    "    log['transactions'] = []\n",
    "\n",
    "name = client_data['person']['name']\n",
    "idx = client_data['person']['id']\n",
    "accountNumber = client_data['person']['account']\n",
    "print(\"Name:\", name)\n",
    "print(\"ID:\", idx)\n",
    "print(\"Account number:\", accountNumber)\n",
    "print(\"-----------------\")\n",
    "\n",
    "host = client_data['server']['ip']\n",
    "port = int(client_data['server']['port'])"
   ]
  },
  {
   "cell_type": "code",
   "execution_count": 20,
   "metadata": {},
   "outputs": [
    {
     "name": "stdout",
     "output_type": "stream",
     "text": [
      "Waiting for connection\n",
      "Welcome to the Server\n",
      "\n",
      "Registration successful\n",
      "sending: SEND [0001] ADD [MARY HOPKINS] [100]\n",
      "sending: SEND [0001] ADD [4321] [200]\n",
      "sending: SEND [0001] SUB [350]\n"
     ]
    }
   ],
   "source": [
    "ClientSocket = socket.socket()\n",
    "\n",
    "print('Waiting for connection')\n",
    "try:\n",
    "    ClientSocket.connect((host, port))\n",
    "except socket.error as e:\n",
    "    print(str(e))\n",
    "\n",
    "Welcome = ClientSocket.recv(1024)\n",
    "print(Welcome.decode('utf-8'))\n",
    "\n",
    "# register\n",
    "number = str(len(client_data['actions']))\n",
    "registration_string = str(idx) + '#' + str(name) + '#' + str(accountNumber) + '#' + number\n",
    "ClientSocket.send(str.encode(registration_string))\n",
    "Result = ClientSocket.recv(1024)\n",
    "print(Result.decode('utf-8'))\n",
    "\n",
    "# sending transactions\n",
    "for action in client_data['actions']:\n",
    "    ClientSocket.send(str.encode(action))\n",
    "    print('sending:', action)\n",
    "    \n",
    "    log['transactions'].append({'transaction': action})\n",
    "    with open('data/bankclient_log.json', 'w') as outfile:\n",
    "        json.dump(log, outfile)"
   ]
  },
  {
   "cell_type": "code",
   "execution_count": null,
   "metadata": {},
   "outputs": [],
   "source": []
  },
  {
   "cell_type": "code",
   "execution_count": null,
   "metadata": {},
   "outputs": [],
   "source": []
  }
 ],
 "metadata": {
  "kernelspec": {
   "display_name": "Python 3",
   "language": "python",
   "name": "python3"
  },
  "language_info": {
   "codemirror_mode": {
    "name": "ipython",
    "version": 3
   },
   "file_extension": ".py",
   "mimetype": "text/x-python",
   "name": "python",
   "nbconvert_exporter": "python",
   "pygments_lexer": "ipython3",
   "version": "3.7.3"
  }
 },
 "nbformat": 4,
 "nbformat_minor": 2
}
