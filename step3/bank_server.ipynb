{
 "cells": [
  {
   "cell_type": "code",
   "execution_count": 1,
   "metadata": {},
   "outputs": [],
   "source": [
    "import socket\n",
    "import json\n",
    "from _thread import *\n",
    "import requests"
   ]
  },
  {
   "cell_type": "code",
   "execution_count": 2,
   "metadata": {},
   "outputs": [],
   "source": [
    "def reading(file):\n",
    "    my_config_file1 = open(file)\n",
    "    my_config_file1 = my_config_file1.read()\n",
    "    object1 = json.loads(my_config_file1)\n",
    "    return object1"
   ]
  },
  {
   "cell_type": "code",
   "execution_count": 3,
   "metadata": {},
   "outputs": [],
   "source": [
    "credentials = reading('data/bank_credentials.json')\n",
    "transactions = []\n",
    "\n",
    "try:\n",
    "    log = reading('data/bankserver_log.json')\n",
    "except:\n",
    "    log = {}\n",
    "    log['transactions'] = []"
   ]
  },
  {
   "cell_type": "code",
   "execution_count": 4,
   "metadata": {},
   "outputs": [],
   "source": [
    "# a function that handles requests from the individual client by a thread\n",
    "# threaded_client() connects to each individual client on the different address given by the server\n",
    "def threaded_client(connection):\n",
    "    welcome = 'Welcome to the Server\\n'\n",
    "    connection.send(str.encode(welcome))\n",
    "    registered = False\n",
    "\n",
    "    # REGISTRATION\n",
    "    try:\n",
    "        login_info = connection.recv(1024).decode('utf-8')\n",
    "        print('login info:', login_info)\n",
    "        client_id = login_info.split('#')[0]\n",
    "        name = login_info.split('#')[1]\n",
    "        accountNumber = login_info.split('#')[2]\n",
    "        number = login_info.split('#')[3]\n",
    "        \n",
    "    except:\n",
    "        response = 'Registration error: incorrect format'\n",
    "        connection.send(str.encode(response))\n",
    "        connection.close()\n",
    "        return False\n",
    "\n",
    "    for user in credentials:\n",
    "        if name == user['user_name'] and client_id == user['user_id'] and accountNumber == user['account']:\n",
    "            response = 'Registration successful'\n",
    "            connection.send(str.encode(response))\n",
    "            registered = True\n",
    "            \n",
    "    if not registered:\n",
    "        response = 'Registration error: incorrect credentials'\n",
    "        connection.send(str.encode(response))\n",
    "        connection.close()\n",
    "        return False\n",
    "\n",
    "    # TRANSACTIONS\n",
    "    global transactions\n",
    "\n",
    "    for i in range(int(number)):\n",
    "        action = connection.recv(1024).decode('utf-8')\n",
    "        print('Received action:' + action)\n",
    "        transactions.append(action)\n",
    "        \n",
    "        log['transactions'].append({'user': name, 'transaction': action})\n",
    "        with open('data/serverbank_log.json', 'w') as outfile:\n",
    "            json.dump(log, outfile)\n",
    "    \n",
    "    confirmation = 'The transaction requests have been sent to the bank!'\n",
    "    connection.send(str.encode(confirmation))\n",
    "    \n",
    "    #connection.close()\n",
    "    return True"
   ]
  },
  {
   "cell_type": "code",
   "execution_count": 5,
   "metadata": {},
   "outputs": [],
   "source": [
    "def threaded_bank(connection):\n",
    "    welcome = 'Welcome to the Server\\n'\n",
    "    connection.send(str.encode(welcome))\n",
    "    registered = False\n",
    "\n",
    "    # REGISTRATION\n",
    "    try:\n",
    "        bank_id = int(connection.recv(1024).decode('utf-8'))\n",
    "        name = str(connection.recv(1024).decode('utf-8'))\n",
    "    except:\n",
    "        response = 'Registration error: incorrect format'\n",
    "        connection.send(str.encode(response))\n",
    "        connection.close()\n",
    "        return False\n",
    "\n",
    "    for user in credentials:\n",
    "        if name == str(user['user_name']) and bank_id == int(user['user_id']):\n",
    "            response = 'Registration successful'\n",
    "            connection.send(str.encode(response))\n",
    "            registered = True\n",
    "            return True\n",
    "    \n",
    "    if not registered:\n",
    "        response = 'Registration error: incorrect credentials'\n",
    "        connection.send(str.encode(response))\n",
    "        connection.close()\n",
    "        return False\n",
    "    \n",
    "    # SEND TRANSACTIONS TO BANK\n",
    "    global transactions\n",
    "    \n",
    "    while True:\n",
    "        for i in range(len(transactions)):\n",
    "            connection.send(str.encode(transactions[i]))"
   ]
  },
  {
   "cell_type": "code",
   "execution_count": 6,
   "metadata": {},
   "outputs": [],
   "source": [
    "def server():\n",
    "    ServerSocketClient = socket.socket()\n",
    "    ServerSocketBank = socket.socket()\n",
    "    # declare host and port on which we need to communicate with clients\n",
    "    ip = \"127.0.0.1\"\n",
    "    port_client = 13370\n",
    "    port_bank = 13371\n",
    "    ThreadCountClient = ThreadCountBank = 0\n",
    "    # if it binds successfully then it starts waiting for the client otherwise\n",
    "    # it returns the error that occurred while establishing a connection\n",
    "    try:\n",
    "        ServerSocketClient.bind((ip, port_client))\n",
    "        ServerSocketBank.bind((ip, port_bank))\n",
    "    except socket.error as e:\n",
    "        print(str(e))\n",
    "    print('Waiting for a Connection..')\n",
    "\n",
    "    # use a while loop to make it run Server endlessly until we manually stop the Server\n",
    "    while True:\n",
    "        ServerSocketClient.listen(1)\n",
    "        ServerSocketBank.listen(2)\n",
    "        if ServerSocketClient.accept():\n",
    "            Client, address = ServerSocketClient.accept()\n",
    "            print('Connected to client: ' + address[0] + ':' + str(address[1]))\n",
    "\n",
    "            start_new_thread(threaded_client, (Client,))\n",
    "            ThreadCountClient += 1\n",
    "            print('Client Thread Number: ' + str(ThreadCountClient))\n",
    "        \n",
    "        if ServerSocketBank.accept():\n",
    "            Bank, address = ServerSocketBank.accept()\n",
    "            print('Connected to bank: ' + address[0] + ':' + str(address[1]))\n",
    "\n",
    "            start_new_thread(threaded_bank, (Bank,))\n",
    "            ThreadCountBank += 1\n",
    "            print('Bank Thread Number: ' + str(ThreadCountBank))\n",
    "\n",
    "    ServerSocket.close()"
   ]
  },
  {
   "cell_type": "code",
   "execution_count": null,
   "metadata": {},
   "outputs": [
    {
     "name": "stdout",
     "output_type": "stream",
     "text": [
      "Waiting for a Connection..\n",
      "Connected to client: 127.0.0.1:50157\n",
      "Client Thread Number: 1\n",
      "login info: 0001#JOE DOE#1234#3\n",
      "Received action:SEND [0001] ADD [MARY HOPKINS] [100]\n",
      "Received action:SEND [0001] ADD [4321] [200]\n",
      "Received action:SEND [0001] SUB [350]\n"
     ]
    }
   ],
   "source": [
    "server()"
   ]
  },
  {
   "cell_type": "code",
   "execution_count": 2,
   "metadata": {},
   "outputs": [
    {
     "data": {
      "text/plain": [
       "'1224'"
      ]
     },
     "execution_count": 2,
     "metadata": {},
     "output_type": "execute_result"
    }
   ],
   "source": [
    "string = '1224#wefhn#1248#1'\n",
    "new = string.split('#')[0]\n",
    "new"
   ]
  },
  {
   "cell_type": "code",
   "execution_count": null,
   "metadata": {},
   "outputs": [],
   "source": []
  }
 ],
 "metadata": {
  "kernelspec": {
   "display_name": "Python 3",
   "language": "python",
   "name": "python3"
  },
  "language_info": {
   "codemirror_mode": {
    "name": "ipython",
    "version": 3
   },
   "file_extension": ".py",
   "mimetype": "text/x-python",
   "name": "python",
   "nbconvert_exporter": "python",
   "pygments_lexer": "ipython3",
   "version": "3.7.3"
  }
 },
 "nbformat": 4,
 "nbformat_minor": 2
}
